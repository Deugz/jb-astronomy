{
 "cells": [
  {
   "cell_type": "markdown",
   "metadata": {},
   "source": [
    "# Getting Started with Python - Functions\n",
    "\n",
    "Version 0.1 Jul 2020\n",
    "\n",
    "This notebook introduces a key concept in programming which is functions. You will discover what functions are and how to use them in Python.\n",
    "\n",
    "\n",
    "[1. Functions: what are they?](#Functions)\n",
    "\n",
    "[2. Building your own function](#Building)\n",
    "\n",
    "[3. Modules](#Modules)\n",
    "\n",
    "[Answers of the exercises](#Exercise-Answers)\n",
    "\n",
    "**FILE:** `Functions_PyPS.ipnyb`\n",
    "***"
   ]
  },
  {
   "cell_type": "markdown",
   "metadata": {},
   "source": [
    "<a id=\"Functions\"></a> \n",
    "## 1. Functions: what are they?"
   ]
  },
  {
   "cell_type": "markdown",
   "metadata": {},
   "source": [
    "Programs often involve running the same sequence of instructions several (or many) times. Where there are situations like this, it is usually possible to group these instructions into a named block of code that can be deployed as and when needed. These blocks are called **Functions**. Some functions are supplied as part of Python or in a *library* that you can easily access. For library functions, the block of code that makes up the function is something you would not normally be able to see or edit. \n",
    "\n",
    "You have already used some functions, but here we will go into a bit more detail about what they are. So, you have already seen and used the functions `print()` and `type()`. All functions are used in a similar way: when a program uses a function, there will be some code of the form `name_of_function(input)`. This will *call* the function, which then returns something depending on the value of `input`. \n",
    "\n",
    "For instance, the function `type()` you saw that given a variable as input, the function returns its type. \n",
    "\n",
    "We won't make an exhaustive list of all existing Python functions, rather, we will show a few examples that you might encounter that will help you understand how to use functions in general.\n",
    "\n",
    "Firstly, variable types can be changed using functions. This particularly useful for converting a number given in text (i.e. as string) into a number that can be used in calculation. \n",
    "\n",
    "The function `int()` converts its input into an integer. So, this function can be used to convert strings to integers as can be seen by running the following example. "
   ]
  },
  {
   "cell_type": "code",
   "execution_count": null,
   "metadata": {},
   "outputs": [],
   "source": [
    "# Example showing how int() converts strings to integers\n",
    "string_1 = \"234\"\n",
    "string_2 = \"790\"\n",
    "\n",
    "total = int(string_1) + int(string_2)\n",
    "\n",
    "print(total)"
   ]
  },
  {
   "cell_type": "markdown",
   "metadata": {},
   "source": [
    "Another situation might be that we need to convert a float to an integer. Note that in such a conversion, any part after the decimal point is simply removed or *truncated* (note that `int()` does **not** round to the nearest integer) as shown by running the following example. "
   ]
  },
  {
   "cell_type": "code",
   "execution_count": null,
   "metadata": {},
   "outputs": [],
   "source": [
    "# Example showing how int() converts a float to an integer\n",
    "x = 8\n",
    "y = 3\n",
    "\n",
    "# Find and print x/y - it will be a float\n",
    "print(x/y)\n",
    "\n",
    "# Now use int() to convert x/y to integer and print this value\n",
    "index = int(x/y)\n",
    "print(index)"
   ]
  },
  {
   "cell_type": "markdown",
   "metadata": {},
   "source": [
    "Similarly, the functions `float`, and `str` allow you to convert the input into either a float or a string as shown by running the following example. You may want to try removing the `float()` and `str()`\n",
    "functions (lines 4 and 14) to see what happens."
   ]
  },
  {
   "cell_type": "code",
   "execution_count": null,
   "metadata": {},
   "outputs": [],
   "source": [
    "# Example showing use of float() and str()\n",
    "\n",
    "# Convert a number as a string to a float\n",
    "mass_kg = float(\"4.5\")\n",
    "\n",
    "# Carry out a calculation\n",
    "mass_g = mass_kg * 1000. \n",
    "\n",
    "# Define some output strings\n",
    "string_1 = \"Mass of body: \"\n",
    "string_2 = \" g\"\n",
    "\n",
    "# Concatenate the strings, with the mass coverted to a string\n",
    "string_3 = string_1 + str(mass_g) + string_2\n",
    "\n",
    "# Print the output\n",
    "print(string_3)"
   ]
  },
  {
   "cell_type": "markdown",
   "metadata": {},
   "source": [
    "An important point to note is that many functions operate with input variables of different types. So in the example of `int()` above, we saw that the function works appropriately regardless of whether the input type is `str` or `float`.\n",
    "\n",
    "\n",
    "Moreover, the input to a function need not be a single simple variable and functions can be applied to more complex objects like lists. For instance, if you wish to find the number of elements in a list or sum them, you can use the function `len()` or `sum()` as you can see by running the following example."
   ]
  },
  {
   "cell_type": "code",
   "execution_count": null,
   "metadata": {},
   "outputs": [],
   "source": [
    "# Example showing use of list functions\n",
    "# Some data in a list\n",
    "list = [3, 19, 29, 456, 4.78, \"item\"]\n",
    "\n",
    "# Find and print the length of the list\n",
    "print(\"The length of the first list is \", len(list))\n",
    "\n",
    "# A second list where all elements are of the same type\n",
    "second_list = [1, 3, 56, 9]\n",
    "\n",
    "# Sum the elements in this list and print the result\n",
    "print(\"The sum of the elements of the second list is\", sum(second_list))\n"
   ]
  },
  {
   "cell_type": "markdown",
   "metadata": {},
   "source": [
    "You can  see in this example that functions can sometimes take several variables as inputs and these are separated by commas. In the above example the function `print()` has two inputs (and can take more).\n",
    "\n",
    "Note also that functions can be combined as in the above example where `len()`  and `sum()` are called from within the input parameter list of `print()`. "
   ]
  },
  {
   "cell_type": "markdown",
   "metadata": {},
   "source": [
    "<a id=\"Exercise1.1\"></a>\n",
    "<div class=\"alert alert-block alert-info\">\n",
    "<b>Exercise 1.1</b> <br> \n",
    "    \n",
    "The following code cell assigns a list of numbers. Write a program that returns a list containing the truncated integer values of the items in the first list.\n",
    "\n",
    "Hint: you will need to create an output list, and iterate on all the elements of the input list to take their integer values before appending them successively to the output list.\n",
    "</div>"
   ]
  },
  {
   "cell_type": "code",
   "execution_count": null,
   "metadata": {},
   "outputs": [],
   "source": [
    "# Code for Exercise 1.1\n",
    "list_numbers = [23.5, -10.3, -0.234, 0.92, 10.29, -3.0]\n",
    "\n",
    "# Type your code here "
   ]
  },
  {
   "cell_type": "markdown",
   "metadata": {},
   "source": [
    "You should attempt this exercise *before* looking at the [Exercise Answers](#ExerciseAnswers1.1)"
   ]
  },
  {
   "cell_type": "markdown",
   "metadata": {},
   "source": [
    "One last useful function is `input()`. This allows you to ask the user of the program for value. Let us see how it works on the following example: try running the following cell, and when prompted for your year of birth, enter it in the box and press return. "
   ]
  },
  {
   "cell_type": "code",
   "execution_count": null,
   "metadata": {},
   "outputs": [],
   "source": [
    "# Ask the user to input their birth year\n",
    "birth_year = input(\"In what year were you born? \") \n",
    "\n",
    "# Convert input to integer\n",
    "year = int(birth_year)\n",
    "\n",
    "print(\"In 2015 your age was\", 2015 - year)"
   ]
  },
  {
   "cell_type": "markdown",
   "metadata": {},
   "source": [
    "This program asks for your birth year and answers with you your age as it was in the year 2015. The first instruction is the `input()` function that prints the given string and takes an input from the user. This is input stored in the variable `birth_year`. This input is automatically input in text format i.e. as `str` type. Therefore, to be able to calculate your age in the given year, this text has to be converted into an integer with the `int()` function."
   ]
  },
  {
   "cell_type": "markdown",
   "metadata": {},
   "source": [
    "<a id=\"Exercise1.2\"></a>\n",
    "<div class=\"alert alert-block alert-info\">\n",
    "<b>Exercise 1.2</b> <br> \n",
    "\n",
    "The code cell below calculates the cumulative mass of input masses. Explain (using `#` comments) what each line of this this program does.\n",
    "\n",
    "</div>"
   ]
  },
  {
   "cell_type": "code",
   "execution_count": null,
   "metadata": {},
   "outputs": [],
   "source": [
    "# Exercise 1.2\n",
    "totmass = 0. \n",
    "more_input = True\n",
    "while (more_input):\n",
    "    answer=input(\"Mass of item in kg? (enter stop when finished) \")\n",
    "    if answer == \"stop\":\n",
    "        more_input = False\n",
    "    else: \n",
    "        mass = float(answer)\n",
    "        totmass = totmass + mass\n",
    "print(\"Total mass:\", totmass, \"kilograms\")"
   ]
  },
  {
   "cell_type": "markdown",
   "metadata": {},
   "source": [
    "You should attempt this exercise *before* looking at the [Exercise Answers](#ExerciseAnswers1.2)"
   ]
  },
  {
   "cell_type": "markdown",
   "metadata": {},
   "source": [
    "### Functions - summary \n",
    "\n",
    "In this part, you learned what functions are and how to use some pre-defined ones. You saw that the functions `int()`, `float()` and `str()` convert variable types and how the `input()` function allows you to prompt the user to supply a value for a variable. You also learnt more about how to use the `print` function and that it can call several variables of different types that need to be comma-separated.\n",
    "***"
   ]
  },
  {
   "cell_type": "markdown",
   "metadata": {},
   "source": [
    "<a id=\"Building\"></a> \n",
    "## 2. How to build your own functions"
   ]
  },
  {
   "cell_type": "markdown",
   "metadata": {},
   "source": [
    "Using existing functions from Python libraries is very powerful but sometimes you will want to create your own functions to carry out specific tasks. \n",
    "\n",
    "Let us see an example how this is done in Python by running the following:"
   ]
  },
  {
   "cell_type": "code",
   "execution_count": null,
   "metadata": {},
   "outputs": [],
   "source": [
    "## This program calculates the energy (in eV) of the state of a hydrogen atom with principal quantum number n\n",
    "\n",
    "# We define the function that calculates the energy of a state \n",
    "# of the hydrogen atom with principal quantum number n\n",
    "def energy(n):\n",
    "    # Rydberg constant in eV\n",
    "    ryd_constant=13.6\n",
    "    ener = - ryd_constant/(n*n)\n",
    "    return ener\n",
    "\n",
    "# The main program starts here\n",
    "# ask user for principal quantum number n\n",
    "n = int(input(\"Input the principal quantum number:\"))\n",
    "\n",
    "print(\"Energy of the hydrogen atom in this state:\", energy(n), \"eV\")\n"
   ]
  },
  {
   "cell_type": "markdown",
   "metadata": {},
   "source": [
    "In the program, a function named `energy()` is defined. The function block starts with the line `def energy(n):` and ends with the `return ener` statement. The function takes a single input variable `n` and returns the value of the energy contained in the variable `ener`. Similarly to the selection (if) and iteration statements (for or while), the indentation is important here. Note also that the line `return ener` indicates the variable to be returned when the function is called.\n",
    "\n",
    "The main program starts at line 11 and prompts the user to input the principal quantum number `n`. Then, in line 13, when the `print()` function calls `energy(n)`, the program jumps to the definition of the function and executes all the instructions contained within it (i.e. everything that is indented). When it reaches the `return ener` statement, it jumps back to the line that called the function (i.e. the `print` function) and then continues executing the rest of the instructions in the program.\n",
    "\n",
    "Note also that the name of the variable within the user defined function does not have to be the same as the name of the variable outside the function. Here, a variable `n` and passed to the function. The function uses the same name for that variable (n). You could, if you wish, use a different variable name (say m) within the function. Try changing the program yourself to see this. This feature can be useful if you call the same function multiple times within the same program, but using a different variable each time.\n",
    "\n",
    "As you have already seen, unctions can also take more than one variable as input. Properly, these are called *arguments* and they are written to the right of the function (inside the brackets) separated by commas. Remember the colon at the end of the `def` line: the program won’t work if you forget it.\n",
    "\n",
    "One last thing to note in the program is that we defined the variable `ryd_constant` to contain the value of the Rydberg constant inside the function. This means that you can't use this particular variable outside the function (we say it is a *local* variable). (You can test this by adding `print(ryd_constant)` so that you output the value of the Rydberg constant either outside or inside the function block. One of these will give you an error message.)"
   ]
  },
  {
   "cell_type": "markdown",
   "metadata": {},
   "source": [
    "<a id=\"Exercise2.1\"></a>\n",
    "<div class=\"alert alert-block alert-info\">\n",
    "<b>Exercise 2.1</b> <br> \n",
    "\n",
    "Write a program that uses the function `energy()` defined above to calculate the energy difference between two states of the hydrogen atom. The program should ask the user to provide the principal quantum number of the states.\n",
    "\n",
    "Hint: The program needs to use the function `energy()` twice, using the principal quantum numbers provided by the user.\n",
    "</div>"
   ]
  },
  {
   "cell_type": "code",
   "execution_count": null,
   "metadata": {},
   "outputs": [],
   "source": [
    "# Code for Exercise 2.1\n",
    "# We define the function that calculates the energy of a state \n",
    "# of the hydrogen atom with principal quantum number n\n",
    "def energy(n):\n",
    "    # Rydberg constant in eV\n",
    "    ryd_constant=13.6\n",
    "    ener = - ryd_constant/(n*n)\n",
    "    return ener\n",
    "\n",
    "# The main program starts here\n",
    "# Type your code here\n"
   ]
  },
  {
   "cell_type": "markdown",
   "metadata": {},
   "source": [
    "You should attempt this exercise *before* looking at the [Exercise Answers](#ExerciseAnswers2.1)"
   ]
  },
  {
   "cell_type": "markdown",
   "metadata": {},
   "source": [
    "### Build your own functions - summary \n",
    "\n",
    "In this part, you have seen how to define your own function, how to call it and how the function returns a certain value to the main program. You have also seen than variables that are only defined within functions are called *local* variables and that these are not accessible from the main program.\n",
    "***"
   ]
  },
  {
   "cell_type": "markdown",
   "metadata": {},
   "source": [
    "<a id=\"Modules\"></a> \n",
    "## 3. Modules and Packages"
   ]
  },
  {
   "cell_type": "markdown",
   "metadata": {},
   "source": [
    "We saw earlier that it is possible to use a few pre-built functions to automatically perform some operations. Then we learned how to go about writing our own functions. But you don't want to lose precious time reinventing the wheel if a function already exists. Fortunately in Python, many function libraries have been developed and are available to you! They are called **Modules** and **Packages**.\n",
    "\n",
    "As we've already mentioned, Python is an extremely popular programming language and there are huge numbers of people out there using it to do specialist things. Python is managed by the Python Software Foundation (https://www.python.org/psf/) which guides its development. \n",
    "\n",
    "One example of a module is the `math` module. This is built into Python and contains useful mathematical functions such as `sqrt()` (square root). Packages are collections of related modules, and these are often produced and distributed as extensions to the Python language.\n",
    "\n",
    "There are lots of packages written either specifically for Physics, Astronomy and Data Science or more generally for science and technology (as well as Machine learning, A.I., natural language processing, web development, ... and so on). Part of the skill of developing code in Python is being able to find and use modules that have been developed by others.\n",
    "\n",
    "As an example, we will focus in this section on the `math` module for you to see how it works, and how you use it.  Following the same sort of approach, you will then be able to use many other available modules.\n",
    "\n",
    "The first step is to load the module; this is done at the beginning of your program (or at least before you call any function from the module) by an instruction line of the form:"
   ]
  },
  {
   "cell_type": "code",
   "execution_count": null,
   "metadata": {},
   "outputs": [],
   "source": [
    "import math as m"
   ]
  },
  {
   "cell_type": "markdown",
   "metadata": {},
   "source": [
    "Running this instruction will import the `math` module and allows you to call any of the functions it contains. \n",
    "\n",
    "Note that the `as` statement tells Python to replace `math` with `m`. To access e.g. the `sqrt()` function from `math` you would call it using `m.sqrt()`. While it isn't necessary to shorten the name of the module (from `math` to `m`) it is such common practice that you need to be aware of it. If you don't use the `as` statement, you would have to give the full name for the function, which in this case would be `math.sqrt()`.\n",
    "\n",
    "So, let's try using it by running a simple example:"
   ]
  },
  {
   "cell_type": "code",
   "execution_count": null,
   "metadata": {},
   "outputs": [],
   "source": [
    "list_of_squares=[0.,1.,4.,9.,16.,25.]\n",
    "for x in list_of_squares:\n",
    "    print(m.sqrt(x))"
   ]
  },
  {
   "cell_type": "markdown",
   "metadata": {},
   "source": [
    "Sometimes, you don't want to load the full module just for one function. It is possible to load only the required function from the module. This is done using an instruction of the form:"
   ]
  },
  {
   "cell_type": "code",
   "execution_count": null,
   "metadata": {},
   "outputs": [],
   "source": [
    "from math import sqrt"
   ]
  },
  {
   "cell_type": "markdown",
   "metadata": {},
   "source": [
    "Running this will import only the function square root but not the other `math` functions. When loaded in this way, the function can be called without any prefix (i.e. without `math.`). For example, we can now call the `sqrt()` function by running:"
   ]
  },
  {
   "cell_type": "code",
   "execution_count": null,
   "metadata": {},
   "outputs": [],
   "source": [
    "print(sqrt(144.))"
   ]
  },
  {
   "cell_type": "markdown",
   "metadata": {},
   "source": [
    "Many calculations in the physical sciences require functions from the `math` module. Some of the many functions available are:\n",
    "- `factorial(x)`\tThe factorial of the number x.\n",
    "- `exp(x)`\tThe exponential of the number x (i.e. e to the power x)\n",
    "- `log(x)`\tThe natural logarithm of the number x (i.e. the log to the base e of x)\n",
    "- `log10(x)`\tThe logarithm to the base 10 of the number x\n",
    "- `sin(x)`\tThe sine of the number x, where x is in radians\n",
    "- `cos(x)`\tThe cosine of the number x, where x is in radians\n",
    "- `tan(x)`\tThe tangent of the number x, where x is in radians\n",
    "- `asin(x)`\tThe arcsine of the number x (i.e. the angle in radians whose sine is x)\n",
    "- `acos(x)`\tThe arccosine of the number x (i.e. the angle in radians whose cosine is x)\n",
    "- `atan(x)`\tThe arctangent of the number x (i.e. the angle in radians whose tangent is x)\n",
    "- `e`         The base of natural logarithms (i.e. the number 2.71828182846…)\n",
    "- `pi`       \tThe ratio of the circumference of a circle to its diameter (i.e. the number 3.14159265359…)\n",
    "\n",
    "They are very numerous and it might be interesting to have a look at the module documentation online (https://docs.python.org/3/library/math.html). However, do note that much of the documentation about modules does contain a lot more information that what you need at the moment, but you can always refer back to it as you become more advanced in your programing skills.   "
   ]
  },
  {
   "cell_type": "markdown",
   "metadata": {},
   "source": [
    "Let's use all you have learned so far in a concluding activity:"
   ]
  },
  {
   "cell_type": "markdown",
   "metadata": {},
   "source": [
    "<a id=\"Exercise3.1\"></a>\n",
    "<div class=\"alert alert-block alert-info\">\n",
    "<b>Exercise 3.1</b> <br> \n",
    "In the the expansion of $(1+x)^{n}$, the integer coefficient of $x^{n}$ is called the binomial coefficient. \n",
    "\n",
    "These coefficients are given by $\\frac{n!}{k! (n-k)!}$ for all integer values of $k$ from 1 to $n$. \n",
    "    \n",
    "Write a function that takes two integers $a$ and $b$ as input and returns $\\frac{a!}{b! (a-b)!}$. \n",
    "\n",
    "Hence write a program that calculates the all the binomial coefficients for $n=10$.\n",
    "\n",
    "</div>"
   ]
  },
  {
   "cell_type": "code",
   "execution_count": null,
   "metadata": {},
   "outputs": [],
   "source": [
    "# Type your code here"
   ]
  },
  {
   "cell_type": "markdown",
   "metadata": {},
   "source": [
    "You should attempt this exercise *before* looking at the [Exercise Answers](#ExerciseAnswers3.1)"
   ]
  },
  {
   "cell_type": "markdown",
   "metadata": {},
   "source": [
    "### Modules and Packages - summary \n",
    "\n",
    "In this part, you have learnt how you can load packages of modules of pre-defined functions to be able to use them. You have played with some functions of the `math` module. \n",
    "***"
   ]
  },
  {
   "cell_type": "markdown",
   "metadata": {},
   "source": [
    "<a id=\"Exercise-Answers\"></a> \n",
    "## Exercises - Answers\n"
   ]
  },
  {
   "cell_type": "markdown",
   "metadata": {},
   "source": [
    "<a id=\"ExerciseAnswers1.1\"></a>\n",
    "<div class=\"alert alert-block alert-info\">\n",
    "<b>Exercise 1.1</b> <br> \n",
    "\n",
    "Have a look at the following example answer.\n",
    "</div>"
   ]
  },
  {
   "cell_type": "code",
   "execution_count": null,
   "metadata": {},
   "outputs": [],
   "source": [
    "# Code for Exercise 1.1 (Answer)\n",
    "list_numbers = [23.5, -10.3, -0.234, 0.92, 10.29, -3.0]\n",
    "\n",
    "# Type your code here \n",
    "\n",
    "list_number_abs = []\n",
    "\n",
    "for number in list_numbers:\n",
    "    \n",
    "    list_number_abs.append(int(number))\n",
    "    \n",
    "print(list_number_abs)"
   ]
  },
  {
   "cell_type": "markdown",
   "metadata": {},
   "source": [
    "[Back to Exercise 1.1](#Exercise1.1)"
   ]
  },
  {
   "cell_type": "markdown",
   "metadata": {},
   "source": [
    "<a id=\"ExerciseAnswers1.2\"></a>\n",
    "<div class=\"alert alert-block alert-info\">\n",
    "<b>Exercise 1.2</b> <br> \n",
    "The working of the program is explained in comments on each line in the code cell below.\n",
    "</div>"
   ]
  },
  {
   "cell_type": "code",
   "execution_count": null,
   "metadata": {},
   "outputs": [],
   "source": [
    "# Code for Exercise 1.2 (Answer)\n",
    "totmass = 0.          # Initialise the total mass in kilograms\n",
    "more_input = True    # Define a Boolean variable to define whether more input should be requested. Initialise to True\n",
    "while (more_input):  # Loop while we expect more input, otherwise jump to end of this loop\n",
    "    answer=input(\"Mass of item in kg? (enter stop when finished)\")   # Ask user for an input mass or stop when finished \n",
    "    if answer == 'stop':    # Test whether the user has entered the stop condition  \n",
    "        more_input = False  # If so, set the variable more_input to False\n",
    "    else:                   # Otherwise we have another mass to add\n",
    "        mass = float(answer)# Convert the input string to a float\n",
    "        totmass = totmass + mass # Add this mass to the cumulative total \n",
    "print(\"Total mass:\", totmass, \"kilograms\") # After the while loop, print the current value of the cumulative mass."
   ]
  },
  {
   "cell_type": "markdown",
   "metadata": {},
   "source": [
    "[Back to Exercise 1.2](#Exercise1.2)"
   ]
  },
  {
   "cell_type": "markdown",
   "metadata": {},
   "source": [
    "<a id=\"ExerciseAnswers2.1\"></a>\n",
    "<div class=\"alert alert-block alert-info\">\n",
    "<b>Exercise 2.1</b> <br> \n",
    "\n",
    "A working example is given below\n",
    "</div>"
   ]
  },
  {
   "cell_type": "code",
   "execution_count": null,
   "metadata": {},
   "outputs": [],
   "source": [
    "# Code for Exercise 2.1 (Answer)\n",
    "# We define the function that calculates the energy of a state \n",
    "# of the hydrogen atom with principal quantum number n\n",
    "def energy(n):\n",
    "    # Rydberg constant in eV\n",
    "    ryd_constant = 13.6\n",
    "    ener = - ryd_constant/(n*n)\n",
    "    return ener\n",
    "\n",
    "# The main program starts here\n",
    "# ask user for the first principal quantum number\n",
    "first_number = int(input(\"What is the first principal quantum number? \"))\n",
    "# ask user for the second principal quantum number\n",
    "second_number = int(input(\"What is the second principal quantum number? \"))\n",
    "\n",
    "# Calculate the energy difference by calling the function energy\n",
    "\n",
    "energy_difference = (energy(first_number) - energy(second_number))\n",
    "\n",
    "# Print the energy difference\n",
    "\n",
    "print(\"Energy difference between the two states :\", energy_difference, \"eV\")"
   ]
  },
  {
   "cell_type": "markdown",
   "metadata": {},
   "source": [
    "[Back to Exercise 2.1](#Exercise2.1)"
   ]
  },
  {
   "cell_type": "markdown",
   "metadata": {},
   "source": [
    "<a id=\"ExerciseAnswers3.1\"></a>\n",
    "<div class=\"alert alert-block alert-info\">\n",
    "<b>Exercise 3.1</b> <br> \n",
    "\n",
    "A working example is given below\n",
    "</div>"
   ]
  },
  {
   "cell_type": "code",
   "execution_count": null,
   "metadata": {},
   "outputs": [],
   "source": [
    "# First we will need to load the factorial function from the math module\n",
    "\n",
    "from math import factorial\n",
    "\n",
    "# Then we define a function that calculates the binomial coefficients.\n",
    "\n",
    "def binomial(a,b):\n",
    "    binomial = factorial(a)/(factorial(b)*factorial(a-b))\n",
    "    return binomial\n",
    "\n",
    "# we initialize at 10 the order and a running integer at 1\n",
    "\n",
    "order = 10\n",
    "running_integer = 1\n",
    "\n",
    "# Then we loop on all the integers from 1 to order with a while loop\n",
    "\n",
    "while running_integer < order + 1:\n",
    "    \n",
    "    print(binomial(order, running_integer))\n",
    "    running_integer = running_integer + 1"
   ]
  },
  {
   "cell_type": "markdown",
   "metadata": {},
   "source": [
    "[Back to Exercise 3.1](#Exercise3.1)"
   ]
  }
 ],
 "metadata": {
  "kernelspec": {
   "display_name": "Python 3",
   "language": "python",
   "name": "python3"
  },
  "language_info": {
   "codemirror_mode": {
    "name": "ipython",
    "version": 3
   },
   "file_extension": ".py",
   "mimetype": "text/x-python",
   "name": "python",
   "nbconvert_exporter": "python",
   "pygments_lexer": "ipython3",
   "version": "3.7.4"
  }
 },
 "nbformat": 4,
 "nbformat_minor": 2
}