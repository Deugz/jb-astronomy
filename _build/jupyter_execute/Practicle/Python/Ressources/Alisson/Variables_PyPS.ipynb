{
 "cells": [
  {
   "cell_type": "markdown",
   "metadata": {},
   "source": [
    "# Getting Started with Python - Variables\n",
    "\n",
    "Version 0.1 Jul 2020\n",
    "\n",
    "This notebook introduces the concept of variables in Python programming. You will discover what variables are, and see that every variable in Python has a type. You will also find out more about lists in Python.   \n",
    "\n",
    "[1. Variables](#Variables)\n",
    "\n",
    "[2. Types](#Types)\n",
    "\n",
    "[3. More about Lists](#Lists)\n",
    "\n",
    "[Answers to exercises](#Exercise-Answers)\n",
    "\n",
    "**FILE:** `Variables_PyPS.ipnyb`\n",
    "***"
   ]
  },
  {
   "cell_type": "markdown",
   "metadata": {},
   "source": [
    "<a id=\"Variables\"></a> \n",
    "## 1. Variables"
   ]
  },
  {
   "cell_type": "markdown",
   "metadata": {},
   "source": [
    "A **variable** is a named entity that stores some information within a computer program. Variables provide a way for programmers to store information so that they can retrieve and reuse this information as many times as they want, just by calling its name. \n",
    "\n",
    "Using variables in Python starts usually starts with an *assignment statement*, such as\n",
    "\n",
    "`variable_name = (value)`"
   ]
  },
  {
   "cell_type": "markdown",
   "metadata": {},
   "source": [
    "In plain English, you could translate this statement as: save the given value in a variable called name `variable_name`. Consider a simple example (run the following code cell)."
   ]
  },
  {
   "cell_type": "code",
   "execution_count": 1,
   "metadata": {},
   "outputs": [],
   "source": [
    "number_of_apples = 56"
   ]
  },
  {
   "cell_type": "markdown",
   "metadata": {},
   "source": [
    "This statement puts the number 56 into the variable called `number_of_apples`. "
   ]
  },
  {
   "cell_type": "markdown",
   "metadata": {},
   "source": [
    "On assignment, provided that the variable name has not been used before, Python will create a new variable with this name. However, if a variable with this name already exists, its value will be overwritten as you can see by running the following example."
   ]
  },
  {
   "cell_type": "code",
   "execution_count": 2,
   "metadata": {},
   "outputs": [
    {
     "name": "stdout",
     "output_type": "stream",
     "text": [
      "The value in number_of_apples is 35\n",
      "The value in number_of_apples is 49\n"
     ]
    }
   ],
   "source": [
    "number_of_apples = 35\n",
    "print(\"The value in number_of_apples is\", number_of_apples)\n",
    "number_of_apples = 49\n",
    "print(\"The value in number_of_apples is\", number_of_apples)"
   ]
  },
  {
   "cell_type": "markdown",
   "metadata": {},
   "source": [
    "In passing, note that if you want to find out the value of a variable, then instead of using the `print` function you can also run a code cell that only contains the variable name. This will return the current value of the variable. Try this now by running the code cell below. "
   ]
  },
  {
   "cell_type": "code",
   "execution_count": 3,
   "metadata": {},
   "outputs": [
    {
     "data": {
      "text/plain": [
       "49"
      ]
     },
     "execution_count": 3,
     "metadata": {},
     "output_type": "execute_result"
    }
   ],
   "source": [
    "number_of_apples "
   ]
  },
  {
   "cell_type": "markdown",
   "metadata": {},
   "source": [
    "Variable names can be chosen at your convenience, but with a few important restictions:\n",
    "1. Variable names cannot start with a number: for instance `3things` is not valid. However, variables names may contain or end with a number: so `things3` is valid, as is `thi3ngs`.\n",
    "1. Variables names are *case sensitive* which means that `Thing`, `THING`, `thing` and `thinG` are four different names and would correspond to different variables. \n",
    "1. In variable names, you must not use spaces, or special characters such as `!`, `:` or `#`, although the underscore character (`_`) is allowed. It is usually preferable to stick to names that comprise only letters, numbers and the underscore ('_').\n",
    "1. Variable names cannot be the same as any of the keywords that have special meaning in Python. These are: `and, del, from, none, True, False, as, elif, global, nonlocal, try, assert, else, if, not, while, break, except, import, or, with, class, in, pass, yield, continue, finally, is, raise, def, for, lambda, return`.\n",
    "\n",
    "Given the freedom that you have in choosing variable names, it is good to remember that such names are also important for the readability of your code, and it is good practice to choose names that are meaningful and unambigious.  "
   ]
  },
  {
   "cell_type": "markdown",
   "metadata": {},
   "source": [
    "During assignment, it is also possible to define variables with other variables and overwrite them with their previous self. \n",
    "\n",
    "Let's see this with a small exercise."
   ]
  },
  {
   "cell_type": "markdown",
   "metadata": {},
   "source": [
    "<a id=\"Exercise1.1\"></a>\n",
    "<div class=\"alert alert-block alert-info\">\n",
    "<b>Exercise 1.1</b> <br> \n",
    "    \n",
    "The following code defines the value of the variables `height` and `length`. What are their values at the end of the cell ?\n",
    "</div>"
   ]
  },
  {
   "cell_type": "code",
   "execution_count": 4,
   "metadata": {},
   "outputs": [],
   "source": [
    "# Code for Exercise 1.1\n",
    "height = 35\n",
    "length = height - 10\n",
    "height = height + 4"
   ]
  },
  {
   "cell_type": "markdown",
   "metadata": {},
   "source": [
    "You should attempt this exercise *before* looking at the [Exercise Answers](#ExerciseAnswers1.1)"
   ]
  },
  {
   "cell_type": "markdown",
   "metadata": {},
   "source": [
    "You can see that in this exercise, the original value of `height` has been lost. You should be careful not to overwrite information that you cannot retrieve! \n",
    "\n",
    "Let's see how to hold onto important values in the following exercise."
   ]
  },
  {
   "cell_type": "markdown",
   "metadata": {},
   "source": [
    "<a id=\"Exercise1.2\"></a>\n",
    "<div class=\"alert alert-block alert-info\">\n",
    "<b>Exercise 1.2</b> <br> \n",
    "    \n",
    "In the following code cell two variables are defined:\n",
    " \n",
    "`red_lights` is assigned the value `5`\n",
    " \n",
    "`blue_lights` is assigned the value `18`\n",
    "\n",
    "How can you switch them so that the value of `red_lights` is in `blue_lights` and vice-versa ? If you suceed, the cell should return `18 5`.\n",
    "    \n",
    "\n",
    "</div>"
   ]
  },
  {
   "cell_type": "code",
   "execution_count": 5,
   "metadata": {},
   "outputs": [
    {
     "name": "stdout",
     "output_type": "stream",
     "text": [
      "5 18\n"
     ]
    }
   ],
   "source": [
    "# Code for Exercise 1.2\n",
    "red_lights = 5\n",
    "blue_lights = 18\n",
    "# Type your code here\n",
    "\n",
    "# Do not modify after this line\n",
    "print(red_lights, blue_lights)"
   ]
  },
  {
   "cell_type": "markdown",
   "metadata": {},
   "source": [
    "You should attempt this exercise *before* looking at the [Exercise Answers](#ExerciseAnswers1.2)"
   ]
  },
  {
   "cell_type": "markdown",
   "metadata": {},
   "source": [
    "### Variables - summary \n",
    "\n",
    "To recap then: \n",
    "- Variables are places where you can store information in the computer under a given name. You can then retrieve and use this information just by calling its name.\n",
    "- Variables are created by an *assignment statement*. If the variable name has not previously been used, Python will create it. If it has already been used, the old value will be overwritten with the new value.\n",
    "- Variable names may be chosen relatively freely as long as they adhere to the restrictions mentioned above. \n",
    "- Variable names should be chosen so as to help the readability of your code. \n",
    "\n",
    "***"
   ]
  },
  {
   "cell_type": "markdown",
   "metadata": {},
   "source": [
    "<a id=\"Types\"></a> \n",
    "## 2. Types"
   ]
  },
  {
   "cell_type": "markdown",
   "metadata": {},
   "source": [
    "As you can imagine, variables can be used in many more applications than just moving integers from one box to another (as you saw in Exercise 1.2). In fact, numbers are only one flavour of data that you might be handling with Python. \n",
    "\n",
    "When any new variable is defined using an assignment in Python, the kernel automatically attributes a *type* to it. You have come across several types of data already in this course, but we haven't yet discussed them explicitly. So, let's briefly introduce the most common variable types in Python.\n",
    "\n",
    "1. Integers (`int`) – these are whole numbers, either positive or negative (1, 2, −3456, ...)\n",
    "1. Floating point numbers (`float`) – these are numbers with decimal places (1.0, 3.142, −0.000361, ...). As on a calculator, you can also use scientific notation for floating point numbers (e.g. 1.23e2 to represent $1.23 \\times 10^{2}$)\n",
    "1. Strings (`str`) – are a sequence of characters, such as might be used for words or sentences. These are indicated by either single or double quotes (‘fred’, “1”, ‘World’, ‘3.142’). It is important to note that strings containing only digits (e.g. ‘1’ and “3.142”) are treated as text and cannot be manipulated as if they were numbers.\n",
    "1. Boolean (`bool`) - these are variables that can only take the values `True` or `False`. \n",
    "\n",
    "In case of doubt, you can use the Python function `type()` to find the type of a variable. This is done using `type(variable_name)`. "
   ]
  },
  {
   "cell_type": "markdown",
   "metadata": {},
   "source": [
    "<a id=\"Exercise2.1\"></a>\n",
    "<div class=\"alert alert-block alert-info\">\n",
    "<b>Exercise 2.1</b> <br> \n",
    "    \n",
    "In the following window, six variables have been defined. Can you work out what their types are? Check your answers by using the `type` function.\n",
    "</div>"
   ]
  },
  {
   "cell_type": "code",
   "execution_count": 6,
   "metadata": {},
   "outputs": [],
   "source": [
    "# Code for Execise 2.1\n",
    "variable_one = \"five\"\n",
    "variable_two = 3.49\n",
    "variable_three = \"4\"\n",
    "variable_four = 9\n",
    "variable_five = \"five - 3\"\n",
    "variable_six = False\n",
    "# Type your code here to try the type function; example type(variable_one)\n"
   ]
  },
  {
   "cell_type": "markdown",
   "metadata": {},
   "source": [
    "You should attempt this exercise *before* looking at the [Exercise Answers](#ExerciseAnswers2.1)"
   ]
  },
  {
   "cell_type": "markdown",
   "metadata": {},
   "source": [
    "These different types of variable are different in nature and therefore may behave differently when combined with operations. For instance, the use of addition (`+`) with two floats or two strings as shown below:"
   ]
  },
  {
   "cell_type": "code",
   "execution_count": 7,
   "metadata": {},
   "outputs": [
    {
     "name": "stdout",
     "output_type": "stream",
     "text": [
      "The sum of the two floats is 10.85\n",
      "The sum of the two string is HelloWorld\n"
     ]
    }
   ],
   "source": [
    "float_1 = 4.0\n",
    "float_2 = 6.85\n",
    "\n",
    "sum_of_floats = float_1 + float_2\n",
    "\n",
    "print(\"The sum of the two floats is\", sum_of_floats)\n",
    "\n",
    "string_1 = \"Hello\"\n",
    "string_2 = \"World\"\n",
    "\n",
    "sum_of_strings = string_1 + string_2\n",
    "\n",
    "print(\"The sum of the two string is\", sum_of_strings)"
   ]
  },
  {
   "cell_type": "markdown",
   "metadata": {},
   "source": [
    "When you run this example, you'll see that the addition of two floats performs arithmetic summation as expected, whereas addition of two strings gives the string made by joining together (or *concatenating*) the two input strings. You should also note that the variable created by the addition of two floats is also a float, and similarly with string.\n",
    "\n",
    "In general, different variable types cannot be mixed. Let us see what happens if you try to sum a float with a string:"
   ]
  },
  {
   "cell_type": "code",
   "execution_count": 8,
   "metadata": {},
   "outputs": [
    {
     "ename": "TypeError",
     "evalue": "unsupported operand type(s) for +: 'float' and 'str'",
     "output_type": "error",
     "traceback": [
      "\u001b[1;31m---------------------------------------------------------------------------\u001b[0m",
      "\u001b[1;31mTypeError\u001b[0m                                 Traceback (most recent call last)",
      "\u001b[1;32m~\\AppData\\Local\\Temp\\ipykernel_6512\\1760963395.py\u001b[0m in \u001b[0;36m<module>\u001b[1;34m\u001b[0m\n\u001b[0;32m      2\u001b[0m \u001b[0mstring_1\u001b[0m \u001b[1;33m=\u001b[0m \u001b[1;34m\"Hello\"\u001b[0m\u001b[1;33m\u001b[0m\u001b[1;33m\u001b[0m\u001b[0m\n\u001b[0;32m      3\u001b[0m \u001b[1;33m\u001b[0m\u001b[0m\n\u001b[1;32m----> 4\u001b[1;33m \u001b[0msum_mixed\u001b[0m \u001b[1;33m=\u001b[0m \u001b[0mfloat_1\u001b[0m \u001b[1;33m+\u001b[0m \u001b[0mstring_2\u001b[0m\u001b[1;33m\u001b[0m\u001b[1;33m\u001b[0m\u001b[0m\n\u001b[0m\u001b[0;32m      5\u001b[0m \u001b[1;33m\u001b[0m\u001b[0m\n\u001b[0;32m      6\u001b[0m \u001b[0mprint\u001b[0m\u001b[1;33m(\u001b[0m\u001b[1;34m\"The sum of a float and a string is\"\u001b[0m\u001b[1;33m,\u001b[0m \u001b[0msum_mixed\u001b[0m\u001b[1;33m)\u001b[0m\u001b[1;33m\u001b[0m\u001b[1;33m\u001b[0m\u001b[0m\n",
      "\u001b[1;31mTypeError\u001b[0m: unsupported operand type(s) for +: 'float' and 'str'"
     ]
    }
   ],
   "source": [
    "float_1 = 4.0\n",
    "string_1 = \"Hello\"\n",
    "\n",
    "sum_mixed = float_1 + string_2\n",
    "\n",
    "print(\"The sum of a float and a string is\", sum_mixed)"
   ]
  },
  {
   "cell_type": "markdown",
   "metadata": {},
   "source": [
    "Running this code will give an error message, because it is not permissable to add a string to a float. This example shows you that you should keep track of the types of your variables so you don't mix them together in a forbidden way. \n",
    "\n",
    "The exception to the general prohibition on mixing data types occurs with floats and integers. It is acceptable to carry arithmetic operations that mix floats and integers, but note that the results will usually be converted to floats. This isn't usually problematic for calculations, but it can be a problem if you then use that result to do something in Python that requires an integer input.\n"
   ]
  },
  {
   "cell_type": "markdown",
   "metadata": {},
   "source": [
    "### Types - summary \n",
    "\n",
    "To recap this section: \n",
    "   - Every variable in Python has a specific type.  \n",
    "   - Four of the main variable types are: *integers* (`int`), *floats* (`float`), *strings* (`str`)  and *Booleans* (`bool`). \n",
    "   - The type of a variable can be found using the function `type()`.\n",
    "   - Variables can usually only be combined together if they are of the same type. An exception is the arithmetic combination of `int` and `float`. \n",
    "***"
   ]
  },
  {
   "cell_type": "markdown",
   "metadata": {},
   "source": [
    "<a id=\"Lists\"></a> \n",
    "## 3. More about Lists"
   ]
  },
  {
   "cell_type": "markdown",
   "metadata": {},
   "source": [
    "We quickly introduced lists when we talked about iteration. Let us be a bit more thorough in describing what Python means by a list. Recalling the definition we used before, lists are sequences of elements that can be anything from numbers to words. They are represented by the form:\n",
    "\n",
    "[element 1, element 2, element 3, .... element n]\n",
    "\n",
    "where elements are separated by commas within square brackets.\n",
    "\n",
    "It is natural to imagine lists of similar elements like integers for instance, but lists in Python can be composed of elements with mixed data types as you can see by running the following:"
   ]
  },
  {
   "cell_type": "code",
   "execution_count": null,
   "metadata": {},
   "outputs": [],
   "source": [
    "example_of_list = [1, 3.56, \"Good Morning\", 78]"
   ]
  },
  {
   "cell_type": "markdown",
   "metadata": {},
   "source": [
    "As you see in this example, lists are defined in the same way as variables, i.e. by using an assignment statement. Here, the list has four elements. \n",
    "\n",
    "If you want to refer to a specific element of a list, this is done using `name_of_list[index_of_element]`, where `index_of_element` represents the position of the element in the list. Note that in Python, list indicies start at 0; for example, the first element of the previous list is `example_of_list[0]` and the third is `example_of_list[2]`. \n",
    "\n",
    "Let us make sure of this by running:"
   ]
  },
  {
   "cell_type": "code",
   "execution_count": null,
   "metadata": {},
   "outputs": [],
   "source": [
    "print(example_of_list[2])"
   ]
  },
  {
   "cell_type": "markdown",
   "metadata": {},
   "source": [
    "Also note that the index should be an `int`. In the code cell above, try replacing the `2` with `2.0`.\n",
    "\n",
    "You'll see that this gives a `TypeError` telling you that the index should be an `int` (or a `slice` - you will learn about slices when you have more experience in coding in Python). Thinking back to the previous section on variable types, here then is an example of a situation where it does matter whether a number is stored as an `int` or a `float`. \n"
   ]
  },
  {
   "cell_type": "markdown",
   "metadata": {},
   "source": [
    "There are several functions that are useful for handling lists:\n",
    "\n",
    "1. Empty lists can be created just by declaring a list to `[]`, (e.g. `name_of_list=[]`)\n",
    "1. `name_of_list.append(element)` - this instruction will add the item `element` at the last position of the list named `name_of_list`\n",
    "1. Lists can be concatenated by adding (`+`) them.\n",
    "\n",
    "Run the following example to see how these features are used:"
   ]
  },
  {
   "cell_type": "code",
   "execution_count": null,
   "metadata": {},
   "outputs": [],
   "source": [
    "# Create an empty list\n",
    "list_1 = []\n",
    "# Append three entries to this list\n",
    "list_1.append(2)\n",
    "list_1.append(56)\n",
    "list_1.append(93)\n",
    "\n",
    "# Assign values to another list\n",
    "list_2 = [3, 926, 59]\n",
    "\n",
    "# Add these two lists together\n",
    "list_3 = list_1 + list_2\n",
    "\n",
    "print(list_3)"
   ]
  },
  {
   "cell_type": "markdown",
   "metadata": {},
   "source": [
    "Empty lists may seem like a strange idea, but they are very useful when you need to assign values to a list when you don't know at the start of a program how many elements you might need to store. By creating an empty list and appending to it as needed, you can create a list that is defined by the operation of the program. "
   ]
  },
  {
   "cell_type": "markdown",
   "metadata": {},
   "source": [
    "Let us conclude this notebook with a concluding exercice where you will use what you learned during the Jupyter Notebooks *Program Control* and *Variables*."
   ]
  },
  {
   "cell_type": "markdown",
   "metadata": {},
   "source": [
    "<a id=\"Exercise3.1\"></a>\n",
    "<div class=\"alert alert-block alert-info\">\n",
    "<b>Exercise 3.1</b> <br> \n",
    "    \n",
    "A student has recieved marks from several tests in different courses and would like to know the global average mark. The marks are given in a separate list for each of three courses. Can you build a small program that will calculate and return the average mark?\n",
    "\n",
    "Hint: you might want to concatenate the three lists and then iterate on each on the marks to sum them and calculate the total average.\n",
    "    \n",
    "</div>"
   ]
  },
  {
   "cell_type": "code",
   "execution_count": null,
   "metadata": {},
   "outputs": [],
   "source": [
    "# Code for Exercise 3.1\n",
    "# List of marks for maths\n",
    "marks_math = [14, 19, 5, 10]\n",
    "# List of marks for English\n",
    "marks_english = [10, 11, 13]\n",
    "# List of marks for p.e.\n",
    "marks_pe = [16, 18, 12]\n",
    "\n",
    "# Type your code here"
   ]
  },
  {
   "cell_type": "markdown",
   "metadata": {},
   "source": [
    "You should attempt this exercise *before* looking at the [Exercise Answers](#ExerciseAnswers3.1)"
   ]
  },
  {
   "cell_type": "markdown",
   "metadata": {},
   "source": [
    "### Lists - summary \n",
    "\n",
    "In this part, you learned what lists are and how to use them to store a set of information. You also saw how to retrieve the different elements of the list or append elements to it.\n",
    "***"
   ]
  },
  {
   "cell_type": "markdown",
   "metadata": {},
   "source": [
    "<a id=\"Exercise-Answers\"></a> \n",
    "## Exercises Answers\n"
   ]
  },
  {
   "cell_type": "markdown",
   "metadata": {},
   "source": [
    "<a id=\"ExerciseAnswers1.1\"></a>\n",
    "<div class=\"alert alert-block alert-info\">\n",
    "<b>Exercise 1.1</b> <br> \n",
    "\n",
    "The final value of `length` is 35 - 10 so `25`.\n",
    "The final value of `height` is 35 +  4 so `39`\n",
    "</div>\n",
    "\n",
    "[Back to Exercise 1.1](#Exercise1.1)"
   ]
  },
  {
   "cell_type": "markdown",
   "metadata": {},
   "source": [
    "<a id=\"ExerciseAnswers1.2\"></a>\n",
    "<div class=\"alert alert-block alert-info\">\n",
    "<b>Exercise 1.2</b> <br> \n",
    "\n",
    "The key idea is to create a third variable to store the information that we don't want to lose. Here we call this variable `auxiliary`. First we transfer the content of `red_lights` into it so that it is saved. Then we transfer the content of `blue_lights` into `red_lights` and transfer the content of `auxiliary` (which has the initial `red_lights` content) into `blue_lights`.\n",
    "</div>"
   ]
  },
  {
   "cell_type": "code",
   "execution_count": null,
   "metadata": {},
   "outputs": [],
   "source": [
    "# Code for Exercise 1.2 (Answer)\n",
    "red_lights = 5\n",
    "blue_lights = 18\n",
    "# Type your code here\n",
    "auxiliary = red_lights\n",
    "red_lights = blue_lights\n",
    "blue_lights = auxiliary\n",
    "# Do not modify after this line\n",
    "print(red_lights, blue_lights)"
   ]
  },
  {
   "cell_type": "markdown",
   "metadata": {},
   "source": [
    "[Back to Exercise 1.2](#Exercise1.2)"
   ]
  },
  {
   "cell_type": "markdown",
   "metadata": {},
   "source": [
    "<a id=\"ExerciseAnswers2.1\"></a>\n",
    "<div class=\"alert alert-block alert-info\">\n",
    "<b>Exercise 2.1</b> <br> \n",
    "\n",
    "By using the `type()` function for each variable in turn in the code cell below, you should find that:\n",
    "\n",
    "`variable_one` is a `str`\n",
    "\n",
    "`variable_two` is a `float`\n",
    "\n",
    "`variable_three` is a `str`\n",
    "\n",
    "`variable_four` is an `int`\n",
    "\n",
    "`variable_five` is a `str`\n",
    "\n",
    "`variable_six` is a `bool`\n",
    "</div>\n",
    "\n"
   ]
  },
  {
   "cell_type": "code",
   "execution_count": null,
   "metadata": {},
   "outputs": [],
   "source": [
    "# Code for Execise 2.1 (Answer)\n",
    "variable_one = \"five\"\n",
    "variable_two = 3.49\n",
    "variable_three = \"4\"\n",
    "variable_four = 9\n",
    "variable_five = \"five - 3\"\n",
    "variable_six = False\n",
    "# Type your code here to try the type function; example type(variable_one)\n",
    "type(variable_one)"
   ]
  },
  {
   "cell_type": "markdown",
   "metadata": {},
   "source": [
    "[Back to Exercise 2.1](#Exercise2.1)"
   ]
  },
  {
   "cell_type": "markdown",
   "metadata": {},
   "source": [
    "<a id=\"ExerciseAnswers3.1\"></a>\n",
    "<div class=\"alert alert-block alert-info\">\n",
    "<b>Exercise 3.1</b> <br> \n",
    "\n",
    "The following code is a working example of a solution. \n",
    "To test if your program is working, you can manually calculate the mark average and compare it to what your program yields.\n",
    "\n",
    "</div>\n",
    "\n"
   ]
  },
  {
   "cell_type": "code",
   "execution_count": null,
   "metadata": {},
   "outputs": [],
   "source": [
    "# Code for Exercise 3.1 (Answer)\n",
    "marks_math = [14, 19, 5, 10]\n",
    "marks_english = [10, 11, 13]\n",
    "marks_pe = [16, 18, 12]\n",
    "\n",
    "# First, let us create a list with all the marks in it\n",
    "\n",
    "list_marks = marks_math + marks_english + marks_pe\n",
    "\n",
    "# Then we need to initialise two things ; the sum of the marks and the total numer of marks.\n",
    "\n",
    "sum_of_marks = 0\n",
    "number_of_marks = 0\n",
    "\n",
    "# Now we want to iterate with a for loop on the elements on the list to count them and sum them\n",
    "\n",
    "for mark in list_marks:\n",
    "    \n",
    "    number_of_marks = number_of_marks + 1 \n",
    "    sum_of_marks = sum_of_marks + mark\n",
    "\n",
    "# Then, let us create and calculate the average\n",
    "\n",
    "average_of_marks = sum_of_marks/number_of_marks\n",
    "\n",
    "# Now we can print the answer\n",
    "\n",
    "print('The average of all marks is', average_of_marks)\n"
   ]
  },
  {
   "cell_type": "markdown",
   "metadata": {},
   "source": [
    "[Back to Exercise 3.1](#Exercise3.1)"
   ]
  }
 ],
 "metadata": {
  "kernelspec": {
   "display_name": "Python 3",
   "language": "python",
   "name": "python3"
  },
  "language_info": {
   "codemirror_mode": {
    "name": "ipython",
    "version": 3
   },
   "file_extension": ".py",
   "mimetype": "text/x-python",
   "name": "python",
   "nbconvert_exporter": "python",
   "pygments_lexer": "ipython3",
   "version": "3.9.13"
  }
 },
 "nbformat": 4,
 "nbformat_minor": 2
}